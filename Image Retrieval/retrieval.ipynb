{
 "cells": [
  {
   "cell_type": "code",
   "execution_count": 1,
   "metadata": {},
   "outputs": [],
   "source": [
    "import tensorflow as tf\n",
    "import os\n",
    "import numpy as np\n",
    "from scipy.spatial import distance"
   ]
  },
  {
   "cell_type": "code",
   "execution_count": 2,
   "metadata": {},
   "outputs": [],
   "source": [
    "#filename = './stsim_m_fea.txt'\n",
    "#filename = \"./lbp_riu2_comb_fea.txt\"\n",
    "filename = \"./mbp_fea.txt\"\n",
    "imagevec_size = 256"
   ]
  },
  {
   "cell_type": "code",
   "execution_count": 3,
   "metadata": {},
   "outputs": [],
   "source": [
    "with open(filename) as f:\n",
    "    data = f.readlines()\n",
    "    gvec_matrix = []\n",
    "    gidlist = []\n",
    "    for line in data:\n",
    "        line = line.split()\n",
    "        gid = line[0]\n",
    "        gvec = list(map(float, line[1:]))\n",
    "        if len(gvec) != imagevec_size:\n",
    "            print(\"Image vector error!!! \", len(gvec))\n",
    "        else:\n",
    "            gvec_matrix.append(gvec)\n",
    "            gidlist.append(gid)"
   ]
  },
  {
   "cell_type": "code",
   "execution_count": 4,
   "metadata": {},
   "outputs": [
    {
     "data": {
      "text/plain": [
       "256"
      ]
     },
     "execution_count": 4,
     "metadata": {},
     "output_type": "execute_result"
    }
   ],
   "source": [
    "len(gvec_matrix[0])"
   ]
  },
  {
   "cell_type": "code",
   "execution_count": 5,
   "metadata": {},
   "outputs": [
    {
     "data": {
      "text/plain": [
       "1181"
      ]
     },
     "execution_count": 5,
     "metadata": {},
     "output_type": "execute_result"
    }
   ],
   "source": [
    "len(gidlist)"
   ]
  },
  {
   "cell_type": "markdown",
   "metadata": {},
   "source": [
    "### Calculate covariance matrix"
   ]
  },
  {
   "cell_type": "code",
   "execution_count": null,
   "metadata": {},
   "outputs": [],
   "source": [
    "X = np.array(gvec_matrix)\n",
    "D = np.cov(X.T)\n",
    "VI = np.linalg.inv(D)"
   ]
  },
  {
   "cell_type": "markdown",
   "metadata": {},
   "source": [
    "## TopK"
   ]
  },
  {
   "cell_type": "code",
   "execution_count": 6,
   "metadata": {},
   "outputs": [
    {
     "name": "stdout",
     "output_type": "stream",
     "text": [
      "WARNING:tensorflow:From /Users/yuxiao/anaconda3/lib/python3.7/site-packages/tensorflow/python/ops/embedding_ops.py:132: colocate_with (from tensorflow.python.framework.ops) is deprecated and will be removed in a future version.\n",
      "Instructions for updating:\n",
      "Colocations handled automatically by placer.\n"
     ]
    }
   ],
   "source": [
    "gidlist = np.array(gidlist)\n",
    "gnum = len(gvec_matrix)\n",
    "imagematrix = tf.constant(gvec_matrix)\n",
    "ginputs = tf.placeholder(tf.int32)\n",
    "iembedding_batch = tf.reshape(tf.nn.embedding_lookup(imagematrix, ginputs), [1, imagevec_size])\n",
    "image_vec_tile = tf.tile(iembedding_batch, [gnum, 1])\n",
    "# euclidean distance\n",
    "edistance = -tf.norm(image_vec_tile - imagematrix, ord=2, axis=1)\n",
    "#m_dist = -distance.mahalanobis(image_vec_tile,imagematrix,VI)\n",
    "topknum = 10\n",
    "topkscore, topkind = tf.nn.top_k(edistance, topknum)\n",
    "\n",
    "init = tf.global_variables_initializer()\n",
    "sess = tf.Session()\n",
    "sess.run(init)"
   ]
  },
  {
   "cell_type": "code",
   "execution_count": 7,
   "metadata": {},
   "outputs": [],
   "source": [
    "output = open(\"./mbp_top10.txt\", 'w+')\n",
    "for i in range(len(gvec_matrix)):\n",
    "    tscore, ind = sess.run([topkscore, topkind], feed_dict={ginputs: i})\n",
    "    line = str(gidlist[i]) + \",\"\n",
    "    line1 = \"\"\n",
    "    for j in range(topknum):\n",
    "        line1 += (str(gidlist[ind[j]]) + \",\")\n",
    "    score = \",\".join(list(map(str,tscore)))\n",
    "    line = line + line1 + score + '\\n'\n",
    "    output.write(line)\n",
    "output.close()"
   ]
  },
  {
   "cell_type": "code",
   "execution_count": null,
   "metadata": {},
   "outputs": [],
   "source": []
  }
 ],
 "metadata": {
  "kernelspec": {
   "display_name": "Python 3",
   "language": "python",
   "name": "python3"
  },
  "language_info": {
   "codemirror_mode": {
    "name": "ipython",
    "version": 3
   },
   "file_extension": ".py",
   "mimetype": "text/x-python",
   "name": "python",
   "nbconvert_exporter": "python",
   "pygments_lexer": "ipython3",
   "version": "3.7.3"
  }
 },
 "nbformat": 4,
 "nbformat_minor": 2
}
